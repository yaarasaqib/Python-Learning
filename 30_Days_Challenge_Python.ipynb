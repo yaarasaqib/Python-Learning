{
 "cells": [
  {
   "cell_type": "markdown",
   "id": "341e175c",
   "metadata": {},
   "source": [
    "## 30 Days Python Challenge"
   ]
  },
  {
   "cell_type": "markdown",
   "id": "5741bcc4",
   "metadata": {},
   "source": [
    "### Day 0"
   ]
  },
  {
   "cell_type": "code",
   "execution_count": 3,
   "id": "1e790898",
   "metadata": {},
   "outputs": [
    {
     "name": "stdout",
     "output_type": "stream",
     "text": [
      "This is my day 1.\n",
      "Hello, World.\n",
      "This is my day 1.\n"
     ]
    }
   ],
   "source": [
    "# Read a full line of input from stdin and save it to our dynamically typed variable, input_string.\n",
    "input_string = input()\n",
    "\n",
    "# Print a string literal saying \"Hello, World.\" to stdout.\n",
    "print('Hello, World.')\n",
    "\n",
    "# Print the contents of input_string to stdout.\n",
    "print(input_string)\n"
   ]
  },
  {
   "cell_type": "markdown",
   "id": "f9c4ee41",
   "metadata": {},
   "source": [
    "### Day 1"
   ]
  },
  {
   "cell_type": "code",
   "execution_count": 2,
   "id": "fbc144df",
   "metadata": {},
   "outputs": [
    {
     "name": "stdout",
     "output_type": "stream",
     "text": [
      "12\n",
      "4\n",
      "has reached day 2. \n",
      "16\n",
      "8.0\n",
      "Saqib has reached day 2. \n"
     ]
    }
   ],
   "source": [
    "i = 4\n",
    "d = 4.0\n",
    "s = 'Saqib '\n",
    "\n",
    "# Declare second integer, double, and String variables.\n",
    "second_int = 0\n",
    "second_double = 0.0\n",
    "second_string = \"\"\n",
    "\n",
    "# Read and save an integer, double, and String to your variables.\n",
    "second_int = int(input())\n",
    "second_double = float(input())\n",
    "second_string = input()\n",
    "\n",
    "# Print the sum of both integer variables on a new line.\n",
    "print(i + second_int)\n",
    "\n",
    "# Print the sum of the double variables on a new line.\n",
    "print(\"{:.1f}\".format(d + second_double))\n",
    "\n",
    "# Concatenate and print the String variables on a new line\n",
    "# The 's' variable above should be printed first.\n",
    "print(s + second_string)\n"
   ]
  },
  {
   "cell_type": "markdown",
   "id": "14b7cc31",
   "metadata": {},
   "source": [
    "### Day 2"
   ]
  },
  {
   "cell_type": "code",
   "execution_count": null,
   "id": "24049af0",
   "metadata": {},
   "outputs": [],
   "source": [
    "#!/bin/python3\n",
    "\n",
    "import math\n",
    "import os\n",
    "import random\n",
    "import re\n",
    "import sys\n",
    "\n",
    "#\n",
    "# Complete the 'solve' function below.\n",
    "#\n",
    "# The function accepts following parameters:\n",
    "#  1. DOUBLE meal_cost\n",
    "#  2. INTEGER tip_percent\n",
    "#  3. INTEGER tax_percent\n",
    "#\n",
    "\n",
    "def solve(meal_cost, tip_percent, tax_percent):\n",
    "    tip = meal_cost*tip_percent*0.01\n",
    "    tax = meal_cost*tax_percent*0.01\n",
    "    total = meal_cost+ tax+tip\n",
    "    \n",
    "    return round(total)\n",
    "    \n",
    "\n",
    "if __name__ == '__main__':\n",
    "    meal_cost = float(input().strip())\n",
    "\n",
    "    tip_percent = int(input().strip())\n",
    "\n",
    "    tax_percent = int(input().strip())\n",
    "\n",
    "    solve(meal_cost, tip_percent, tax_percent)\n",
    "    \n",
    "    \n",
    "    result = solve(meal_cost, tip_percent, tax_percent)\n",
    "    print(result)\n"
   ]
  },
  {
   "cell_type": "markdown",
   "id": "32a439ba",
   "metadata": {},
   "source": [
    "### Day 3"
   ]
  },
  {
   "cell_type": "code",
   "execution_count": 1,
   "id": "6b3f7a47",
   "metadata": {},
   "outputs": [
    {
     "name": "stdout",
     "output_type": "stream",
     "text": [
      "45\n",
      "Weird\n"
     ]
    }
   ],
   "source": [
    "#!/bin/python3\n",
    "\n",
    "import math\n",
    "import os\n",
    "import random\n",
    "import re\n",
    "import sys\n",
    "\n",
    "if __name__ == '__main__':\n",
    "    n = int(input().strip())\n",
    "\n",
    "    if n % 2 != 0:\n",
    "        print(\"Weird\")\n",
    "    elif n % 2 == 0:\n",
    "        if 2 <= n <= 5:\n",
    "            print(\"Not Weird\")\n",
    "        elif 6 <= n <= 20:\n",
    "            print(\"Weird\")\n",
    "        elif n > 20:\n",
    "            print(\"Not Weird\")\n"
   ]
  },
  {
   "cell_type": "markdown",
   "id": "2ac5daaa",
   "metadata": {},
   "source": [
    "### Day 4  | Class vs Instance"
   ]
  },
  {
   "cell_type": "code",
   "execution_count": null,
   "id": "7489b191",
   "metadata": {},
   "outputs": [
    {
     "name": "stdout",
     "output_type": "stream",
     "text": [
      "4\n",
      "1\n",
      "You are young.\n",
      "You are young.\n",
      "\n"
     ]
    }
   ],
   "source": [
    "   # Input numbers\n",
    "\n",
    "class Person:\n",
    "    def __init__(self, initialAge):\n",
    "        if initialAge < 0:\n",
    "            self.age = 0\n",
    "            print(\"Age is not valid, setting age to 0.\")\n",
    "        else:\n",
    "            self.age = initialAge\n",
    "\n",
    "    def amIOld(self):\n",
    "        if self.age < 13:\n",
    "            print(\"You are young.\")\n",
    "        elif 13 <= self.age < 18:\n",
    "            print(\"You are a teenager.\")\n",
    "        else:\n",
    "            print(\"You are old.\")\n",
    "\n",
    "    def yearPasses(self):\n",
    "        self.age += 1\n",
    "\n",
    "\n",
    "t = int(input())\n",
    "for i in range(0, t):\n",
    "    age = int(input())         \n",
    "    p = Person(age)  \n",
    "    p.amIOld()\n",
    "    for j in range(0, 3):\n",
    "        p.yearPasses()       \n",
    "    p.amIOld()\n",
    "    print(\"\")"
   ]
  },
  {
   "cell_type": "markdown",
   "id": "c01fae91",
   "metadata": {},
   "source": [
    "### Day 5 Loop"
   ]
  },
  {
   "cell_type": "code",
   "execution_count": 1,
   "id": "278e364c",
   "metadata": {},
   "outputs": [
    {
     "name": "stdout",
     "output_type": "stream",
     "text": [
      "5\n",
      "5 x 1 = 5\n",
      "5 x 2 = 10\n",
      "5 x 3 = 15\n",
      "5 x 4 = 20\n",
      "5 x 5 = 25\n",
      "5 x 6 = 30\n",
      "5 x 7 = 35\n",
      "5 x 8 = 40\n",
      "5 x 9 = 45\n",
      "5 x 10 = 50\n"
     ]
    }
   ],
   "source": [
    "\n",
    "if __name__ == '__main__':\n",
    "    n = int(input().strip())\n",
    "    \n",
    "    for i in range(1, 11):\n",
    "        print(f\"{n} x {i} = {n * i}\")\n"
   ]
  },
  {
   "cell_type": "markdown",
   "id": "e4c0c368",
   "metadata": {},
   "source": [
    "### Day 6"
   ]
  },
  {
   "cell_type": "code",
   "execution_count": 3,
   "id": "6c5e1652",
   "metadata": {},
   "outputs": [
    {
     "name": "stdout",
     "output_type": "stream",
     "text": [
      "6\n",
      "abcdef\n",
      "ace bdf\n",
      "abcdef\n",
      "ace bdf\n",
      "abcdef\n",
      "ace bdf\n",
      "abcdef\n",
      "ace bdf\n",
      "abcdef\n",
      "ace bdf\n",
      "abcdef\n",
      "ace bdf\n"
     ]
    }
   ],
   "source": [
    "# Read the number of test cases\n",
    "num_cases = int(input())\n",
    "\n",
    "# Iterate through each test case\n",
    "for _ in range(num_cases):\n",
    "    # Read the input string\n",
    "    input_string = input()\n",
    "    \n",
    "    # Extract even-indexed and odd-indexed characters\n",
    "    even_chars = input_string[::2]  # characters at even indices\n",
    "    odd_chars = input_string[1::2]  # characters at odd indices\n",
    "    \n",
    "    # Print the even-indexed and odd-indexed characters separated by a space\n",
    "    print(even_chars, odd_chars)\n"
   ]
  },
  {
   "cell_type": "markdown",
   "id": "ec01bf6b",
   "metadata": {},
   "source": [
    "### Day 7  "
   ]
  },
  {
   "cell_type": "code",
   "execution_count": 5,
   "id": "524717c9",
   "metadata": {},
   "outputs": [
    {
     "name": "stdout",
     "output_type": "stream",
     "text": [
      "6\n",
      "1 2 3 4\n",
      "4 3 2 1\n"
     ]
    }
   ],
   "source": [
    "#!/bin/python3\n",
    "\n",
    "import math\n",
    "import os\n",
    "import random\n",
    "import re\n",
    "import sys\n",
    "\n",
    "if __name__ == '__main__':\n",
    "    n = int(input().strip())\n",
    "\n",
    "    arr = list(map(int, input().rstrip().split()))\n",
    "\n",
    "    # Printing the elements of array 'arr' in reverse order\n",
    "    reversed_arr = arr[::-1]  # Reversing the array\n",
    "    print(*reversed_arr)  # Printing the reversed array elements separated by space\n"
   ]
  },
  {
   "cell_type": "markdown",
   "id": "f9e5bb6a",
   "metadata": {},
   "source": [
    "### Day 8"
   ]
  },
  {
   "cell_type": "code",
   "execution_count": null,
   "id": "06f2c05a",
   "metadata": {},
   "outputs": [],
   "source": [
    "# Reading the number of entries in the phone book\n",
    "n = int(input().strip())\n",
    "\n",
    "# Creating an empty dictionary to store phone book entries\n",
    "phone_book = {}\n",
    "\n",
    "# Reading phone book entries\n",
    "for _ in range(n):\n",
    "    entry = input().split()\n",
    "    name = entry[0]\n",
    "    number = entry[1]\n",
    "    phone_book[name] = number\n",
    "\n",
    "# Processing queries\n",
    "while True:\n",
    "    try:\n",
    "        query = input().strip()\n",
    "        if query in phone_book:\n",
    "            print(f\"{query}={phone_book[query]}\")\n",
    "        else:\n",
    "            print(\"Not found\")\n",
    "    except EOFError:\n",
    "        break\n"
   ]
  },
  {
   "cell_type": "markdown",
   "id": "7fcd538a",
   "metadata": {},
   "source": [
    "### Day 9 | Recurssion"
   ]
  },
  {
   "cell_type": "code",
   "execution_count": 9,
   "id": "063697f7",
   "metadata": {},
   "outputs": [
    {
     "name": "stdout",
     "output_type": "stream",
     "text": [
      "4\n",
      "24\n"
     ]
    }
   ],
   "source": [
    "#!/bin/python3\n",
    "\n",
    "\n",
    "def factorial(n):\n",
    "    count = 1\n",
    "    if n == 0 or n == 1:\n",
    "        return 1\n",
    "    else:\n",
    "        for i in range(1, n + 1):\n",
    "            count = count * i\n",
    "        return count\n",
    "\n",
    "if __name__ == '__main__':\n",
    " \n",
    "\n",
    "    n = int(input().strip())\n",
    "\n",
    "    result = factorial(n)\n",
    "    \n",
    "    print(result)\n"
   ]
  }
 ],
 "metadata": {
  "kernelspec": {
   "display_name": "Python 3 (ipykernel)",
   "language": "python",
   "name": "python3"
  },
  "language_info": {
   "codemirror_mode": {
    "name": "ipython",
    "version": 3
   },
   "file_extension": ".py",
   "mimetype": "text/x-python",
   "name": "python",
   "nbconvert_exporter": "python",
   "pygments_lexer": "ipython3",
   "version": "3.9.12"
  }
 },
 "nbformat": 4,
 "nbformat_minor": 5
}
