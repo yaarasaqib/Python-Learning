{
 "cells": [
  {
   "cell_type": "markdown",
   "id": "2faa6301",
   "metadata": {},
   "source": [
    "## 10 Days Python Statistics"
   ]
  },
  {
   "cell_type": "markdown",
   "id": "42fa7260",
   "metadata": {},
   "source": [
    "### Day 0 | Mean Median Mode"
   ]
  },
  {
   "cell_type": "code",
   "execution_count": null,
   "id": "42dfbe64",
   "metadata": {},
   "outputs": [],
   "source": [
    "# Read the array elements\n",
    "arr = list(map(int, input().split()))\n",
    "\n",
    "# Calculate mean and median\n",
    "mean_val = mean(arr)\n",
    "median_val = median(arr)"
   ]
  },
  {
   "cell_type": "markdown",
   "id": "5031c501",
   "metadata": {},
   "source": [
    "### Day 1  Quartile"
   ]
  },
  {
   "cell_type": "code",
   "execution_count": 1,
   "id": "97e5550d",
   "metadata": {},
   "outputs": [],
   "source": [
    "def quartiles(arr):\n",
    "    arr.sort()\n",
    "    n = len(arr)\n",
    "\n",
    "    if n % 2 == 0:\n",
    "        L = arr[:n // 2]\n",
    "        U = arr[n // 2:]\n",
    "        median = (arr[n // 2 - 1] + arr[n // 2]) / 2\n",
    "    else:\n",
    "        L = arr[:n // 2]\n",
    "        U = arr[n // 2 + 1:]\n",
    "        median = arr[n // 2]\n",
    "\n",
    "    Q1 = (L[len(L) // 2 - 1] + L[len(L) // 2]) // 2 if len(L) % 2 == 0 else L[len(L) // 2]\n",
    "    Q3 = (U[len(U) // 2 - 1] + U[len(U) // 2]) // 2 if len(U) % 2 == 0 else U[len(U) // 2]\n",
    "    Q2 = int(median)\n",
    "\n",
    "    return Q1, Q2, Q3"
   ]
  },
  {
   "cell_type": "markdown",
   "id": "8bc8d8f5",
   "metadata": {},
   "source": [
    "### Inter Quartile Range"
   ]
  },
  {
   "cell_type": "code",
   "execution_count": 16,
   "id": "05dab686",
   "metadata": {},
   "outputs": [],
   "source": [
    "def interQuartile(values, freqs):\n",
    "    arr = []\n",
    "    for val, f in zip(values, freqs):\n",
    "        arr.extend([val] * f)\n",
    "    \n",
    "    arr.sort()\n",
    "    n = len(arr)\n",
    "    \n",
    "    if n % 2 == 0:\n",
    "        L = arr[:n // 2]\n",
    "        U = arr[n // 2:]\n",
    "    else:\n",
    "        L = arr[:n // 2]\n",
    "        U = arr[n // 2 + 1:]\n",
    "    Q1 = (L[len(L) // 2 - 1] + L[len(L) // 2]) // 2 if len(L) % 2 == 0 else L[len(L) // 2]\n",
    "    Q3 = (U[len(U) // 2 - 1] + U[len(U) // 2]) // 2 if len(U) % 2 == 0 else U[len(U) // 2]\n",
    "    \n",
    "    return Q3-Q1\n",
    "        \n",
    "        \n",
    "        "
   ]
  },
  {
   "cell_type": "code",
   "execution_count": 19,
   "id": "ee40b32d",
   "metadata": {},
   "outputs": [
    {
     "data": {
      "text/plain": [
       "5"
      ]
     },
     "execution_count": 19,
     "metadata": {},
     "output_type": "execute_result"
    }
   ],
   "source": [
    "def interQuartile(values, freqs):\n",
    "    # Combine values according to frequencies\n",
    "    data = []\n",
    "    for i in range(len(values)):\n",
    "        data.extend([values[i]] * freqs[i])\n",
    "\n",
    "    # Sort the combined data\n",
    "    data.sort()\n",
    "\n",
    "    # Function to calculate median\n",
    "    def median(arr):\n",
    "        n = len(arr)\n",
    "        if n % 2 == 0:\n",
    "            return (arr[n // 2 - 1] + arr[n // 2]) / 2\n",
    "        else:\n",
    "            return arr[n // 2]\n",
    "\n",
    "    n = len(data)\n",
    "    # Calculate Q1 and Q3\n",
    "    if n % 2 == 0:\n",
    "        lower_half = data[:n // 2]\n",
    "        upper_half = data[n // 2:]\n",
    "    else:\n",
    "        lower_half = data[:n // 2]\n",
    "        upper_half = data[n // 2 + 1:]\n",
    "\n",
    "    Q1 = median(lower_half)\n",
    "    Q3 = median(upper_half)\n",
    "\n",
    "    # Calculate and print the interquartile range\n",
    "    interquartile_range = round(float(Q3 - Q1), 1)\n",
    "    print(interquartile_range)\n",
    "\n",
    "# Input reading and function call\n",
    "if __name__ == '__main__':\n",
    "    n = int(input().strip())\n",
    "    val = list(map(int, input().rstrip().split()))\n",
    "    freq = list(map(int, input().rstrip().split()))\n",
    "\n",
    "    interQuartile(val, freq)\n"
   ]
  },
  {
   "cell_type": "markdown",
   "id": "ef0c516f",
   "metadata": {},
   "source": [
    "### Standard Deviation"
   ]
  },
  {
   "cell_type": "code",
   "execution_count": 9,
   "id": "36fcb1af",
   "metadata": {},
   "outputs": [
    {
     "name": "stdout",
     "output_type": "stream",
     "text": [
      "2.8\n"
     ]
    }
   ],
   "source": [
    "import math\n",
    "import os\n",
    "import random\n",
    "import re\n",
    "import sys\n",
    "\n",
    "def stdDev(arr):\n",
    "    n = len(arr)\n",
    "    mu = sum(arr) / n\n",
    "    std = sum([(x - mu) ** 2 for x in arr]) / n\n",
    "\n",
    "    return round(math.sqrt(std), 1)\n",
    "\n",
    "# Define the list outside the function\n",
    "vals = [6, 5, 3, 2, 10]\n",
    "\n",
    "# Call the function with the defined list\n",
    "result = stdDev(vals)\n",
    "\n",
    "# Print the result\n",
    "print(result)\n"
   ]
  },
  {
   "cell_type": "markdown",
   "id": "85cb6935",
   "metadata": {},
   "source": [
    "### Day 2 | Basic Probability "
   ]
  },
  {
   "cell_type": "code",
   "execution_count": 11,
   "id": "d51c6703",
   "metadata": {},
   "outputs": [
    {
     "name": "stdout",
     "output_type": "stream",
     "text": [
      "The probability that the sum is at most 9 is: 5/6\n"
     ]
    }
   ],
   "source": [
    "from fractions import Fraction\n",
    "\n",
    "def probability_sum_at_most(target_sum):\n",
    "    total_outcomes = 0\n",
    "    favorable_outcomes = 0\n",
    "\n",
    "    for die1 in range(1, 7):\n",
    "        for die2 in range(1, 7):\n",
    "            total_outcomes += 1\n",
    "            if die1 + die2 <= target_sum:\n",
    "                favorable_outcomes += 1\n",
    "\n",
    "    probability = Fraction(favorable_outcomes, total_outcomes)\n",
    "    return probability\n",
    "\n",
    "# Example: Probability that the sum is at most 7\n",
    "target_sum = 9\n",
    "result = probability_sum_at_most(target_sum)\n",
    "print(f\"The probability that the sum is at most {target_sum} is: {result}\")\n"
   ]
  },
  {
   "cell_type": "markdown",
   "id": "f19301d2",
   "metadata": {},
   "source": [
    "### More Dice"
   ]
  },
  {
   "cell_type": "code",
   "execution_count": 5,
   "id": "e8f08946",
   "metadata": {},
   "outputs": [
    {
     "name": "stdout",
     "output_type": "stream",
     "text": [
      "Pairs (x, y) where x and y are different and their sum is 6:\n",
      "(1, 5)\n",
      "(2, 4)\n",
      "(4, 2)\n",
      "(5, 1)\n",
      "Probability (x, y) where x and y are different and their sum is 6: 4/36\n"
     ]
    }
   ],
   "source": [
    "def find_pairs():\n",
    "    pairs = []\n",
    "    for x in range(1, 7):  # x can take values from 1 to 6\n",
    "        for y in range(1, 7):  # y can take values from 1 to 6\n",
    "            if x != y and x + y == 6:  # x and y should be different and sum to 6\n",
    "                pairs.append((x, y))\n",
    "    return pairs\n",
    "\n",
    "pairs = find_pairs()\n",
    "total_outcomes = 6 * 6\n",
    "num_favorable_outcomes = len(pairs)\n",
    "probability_fraction = f\"{num_favorable_outcomes}/{total_outcomes}\"\n",
    "\n",
    "print(\"Pairs (x, y) where x and y are different and their sum is 6:\")\n",
    "for pair in pairs:\n",
    "    print(pair)\n",
    "\n",
    "print(\"Probability (x, y) where x and y are different and their sum is 6:\", probability_fraction)\n"
   ]
  },
  {
   "cell_type": "markdown",
   "id": "f2c3b2c1",
   "metadata": {},
   "source": [
    "### Compound Probability\n",
    "\n",
    "There are three urns labeled 1,2 , and 3.\n",
    "\n",
    "\n",
    "Urn1  contains 4 red balls and  3 black balls.\n",
    "Urn2   contains  5 red balls and  4 black balls.\n",
    "Urn 3  contains 4 red balls and 4 black balls.\n",
    "\n",
    "One ball is drawn from each of the  urns. What is the probability that, 3 of the  balls drawn,  are 2 red and  1 is black? "
   ]
  },
  {
   "cell_type": "code",
   "execution_count": 7,
   "id": "0cd942a8",
   "metadata": {},
   "outputs": [
    {
     "data": {
      "text/plain": [
       "Fraction(17, 42)"
      ]
     },
     "execution_count": 7,
     "metadata": {},
     "output_type": "execute_result"
    }
   ],
   "source": [
    "from fractions import Fraction\n",
    "\n",
    "# Probabilities for each case as fractions\n",
    "prob_case1 = Fraction(4, 7) * Fraction(5, 9) * Fraction(4, 8)\n",
    "prob_case2 = Fraction(4, 7) * Fraction(4, 9) * Fraction(4, 8)\n",
    "prob_case3 = Fraction(3, 7) * Fraction(5, 9) * Fraction(4, 8)\n",
    "\n",
    "# Total probability as fraction\n",
    "total_probability = prob_case1 + prob_case2 + prob_case3\n",
    "\n",
    "total_probability\n"
   ]
  },
  {
   "cell_type": "markdown",
   "id": "f4d6910e",
   "metadata": {},
   "source": [
    "### Conditional Probability\n",
    "\n",
    "\n",
    "Suppose a family has  children, one of which is a boy. What is the probability that both children are boys?"
   ]
  },
  {
   "cell_type": "code",
   "execution_count": 11,
   "id": "6ac67453",
   "metadata": {},
   "outputs": [
    {
     "data": {
      "text/plain": [
       "Fraction(1, 3)"
      ]
     },
     "execution_count": 11,
     "metadata": {},
     "output_type": "execute_result"
    }
   ],
   "source": [
    "from fractions import Fraction\n",
    "\n",
    "# Define the sample space for two children\n",
    "sample_space = ['BB', 'BG', 'GB', 'GG']\n",
    "\n",
    "# Remove the case where both children are girls since we know one child is a boy\n",
    "sample_space_reduced = [outcome for outcome in sample_space if 'B' in outcome]\n",
    "\n",
    "# Count the cases where both children are boys\n",
    "count_bb = sample_space_reduced.count('BB')\n",
    "\n",
    "# Calculate the total number of outcomes in the reduced sample space\n",
    "total_outcomes = len(sample_space_reduced)\n",
    "\n",
    "# Calculate the probability as a fraction\n",
    "probability_both_boys = Fraction(count_bb, total_outcomes)\n",
    "\n",
    "# Print the probability as a fraction\n",
    "probability_both_boys\n"
   ]
  },
  {
   "cell_type": "code",
   "execution_count": null,
   "id": "22767171",
   "metadata": {},
   "outputs": [],
   "source": []
  }
 ],
 "metadata": {
  "kernelspec": {
   "display_name": "Python 3 (ipykernel)",
   "language": "python",
   "name": "python3"
  },
  "language_info": {
   "codemirror_mode": {
    "name": "ipython",
    "version": 3
   },
   "file_extension": ".py",
   "mimetype": "text/x-python",
   "name": "python",
   "nbconvert_exporter": "python",
   "pygments_lexer": "ipython3",
   "version": "3.9.12"
  }
 },
 "nbformat": 4,
 "nbformat_minor": 5
}
